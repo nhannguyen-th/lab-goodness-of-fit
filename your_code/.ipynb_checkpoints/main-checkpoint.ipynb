{
 "cells": [
  {
   "cell_type": "markdown",
   "metadata": {},
   "source": [
    "## Question 1\n",
    "The following table indicates the number of 6-point scores in an American rugby match in the 1979 season.\n",
    "\n",
    "![](table1.png)\n",
    "\n",
    "Based on these results, we create a Poisson distribution with the sample mean parameter  = 2.435. Is there any reason to believe that at a .05 level the number of scores is a Poisson variable?\n",
    "Check [here](https://www.geeksforgeeks.org/how-to-create-a-poisson-probability-mass-function-plot-in-python/) how to create a poisson distribution and how to calculate the expected observations, using the probability mass function (pmf). \n",
    "A Poisson distribution is a discrete probability distribution. It gives the probability of an event happening a certain number of times (k) within a given interval of time or space. The Poisson distribution has only one parameter, λ (lambda), which is the mean number of events."
   ]
  },
  {
   "cell_type": "code",
   "execution_count": 4,
   "metadata": {},
   "outputs": [
    {
     "name": "stdout",
     "output_type": "stream",
     "text": [
      "The observed and expected frequencies do not agree within the custom tolerance.\n"
     ]
    }
   ],
   "source": [
    "import scipy.stats as stats\n",
    "import numpy as np\n",
    "\n",
    "# Observed data\n",
    "observed_data = np.array([35, 99, 104, 110, 62, 25, 10, 3])\n",
    "\n",
    "# Sample mean parameter for the Poisson distribution\n",
    "lambda_param = 2.435\n",
    "\n",
    "# Calculate expected frequencies using Poisson distribution's pmf\n",
    "expected_data = [stats.poisson.pmf(i, lambda_param) * sum(observed_data) for i in range(len(observed_data))]\n",
    "\n",
    "# Calculate the relative differences\n",
    "relative_diff = np.abs(observed_data - expected_data) / (np.array(expected_data) + 1e-08)   # Adding a small value to avoid division by zero\n",
    "\n",
    "# Check if the maximum relative difference is within a custom tolerance\n",
    "custom_tolerance = 1e-06\n",
    "if np.max(relative_diff) <= custom_tolerance:\n",
    "    print(\"The observed and expected frequencies agree within the custom tolerance.\")\n",
    "else:\n",
    "    print(\"The observed and expected frequencies do not agree within the custom tolerance.\")\n"
   ]
  },
  {
   "cell_type": "markdown",
   "metadata": {},
   "source": [
    "## Question 2\n",
    "A researcher gathers information about the patterns of Physical Activity of children in the fifth grade of primary school of a public school. He defines three categories of physical activity (Low, Medium, High). He also inquires about the regular consumption of sugary drinks at school, and defines two categories (Yes = consumed, No = not consumed). We would like to evaluate if there is an association between patterns of physical activity and the consumption of sugary drinks for the children of this school, at a level of 5% significance. The results are in the following table: \n",
    "\n",
    "![](table4.png)"
   ]
  },
  {
   "cell_type": "code",
   "execution_count": 1,
   "metadata": {},
   "outputs": [
    {
     "name": "stdout",
     "output_type": "stream",
     "text": [
      "Chi-square statistic: 10.712198008709638\n",
      "P-value: 0.004719280137040844\n",
      "Reject the null hypothesis: There is an association between patterns of physical activity and the consumption of sugary drinks.\n"
     ]
    }
   ],
   "source": [
    "import numpy as np\n",
    "from scipy.stats import chi2_contingency\n",
    "\n",
    "# Observed data\n",
    "observed_data = [\n",
    "    [32, 14, 6],  # For children with sugar drink consumption (Yes)\n",
    "    [12, 22, 9]   # For children without sugar drink consumption (No)\n",
    "]\n",
    "\n",
    "# Perform chi-square test for independence\n",
    "chi2_stat, p_value, _, _ = chi2_contingency(observed_data)\n",
    "\n",
    "# Display the test results\n",
    "print(\"Chi-square statistic:\", chi2_stat)\n",
    "print(\"P-value:\", p_value)\n",
    "\n",
    "# Check significance at a 0.05 level\n",
    "alpha = 0.05\n",
    "if p_value < alpha:\n",
    "    print(\"Reject the null hypothesis: There is an association between patterns of physical activity and the consumption of sugary drinks.\")\n",
    "else:\n",
    "    print(\"Fail to reject the null hypothesis: There is no evidence of an association.\")"
   ]
  },
  {
   "cell_type": "code",
   "execution_count": null,
   "metadata": {},
   "outputs": [],
   "source": []
  }
 ],
 "metadata": {
  "kernelspec": {
   "display_name": "Python 3 (ipykernel)",
   "language": "python",
   "name": "python3"
  },
  "language_info": {
   "codemirror_mode": {
    "name": "ipython",
    "version": 3
   },
   "file_extension": ".py",
   "mimetype": "text/x-python",
   "name": "python",
   "nbconvert_exporter": "python",
   "pygments_lexer": "ipython3",
   "version": "3.11.4"
  }
 },
 "nbformat": 4,
 "nbformat_minor": 2
}
